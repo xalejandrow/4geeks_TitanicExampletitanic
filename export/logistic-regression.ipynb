{
  "cells": [
    {
      "cell_type": "markdown",
      "metadata": {
        "colab_type": "text",
        "id": "view-in-github"
      },
      "source": [
        "<a href=\"https://colab.research.google.com/github/xalejandrow/4geeks_TitanicExampletitanic/blob/main/export/logistic-regression.ipynb\" target=\"_parent\"><img src=\"https://colab.research.google.com/assets/colab-badge.svg\" alt=\"Open In Colab\"/></a>"
      ]
    },
    {
      "cell_type": "markdown",
      "id": "4befd825",
      "metadata": {
        "id": "4befd825"
      },
      "source": [
        "# Logistic Regression\n",
        "\n",
        "Logistic Regression is a linear classification algorithm. Classification is a problem in which the task is to assign a category/class to a new instance learning the properties of each class from the existing labeled data, called training set. Examples of classification problems can be classifying emails as spam and non-spam, looking at height, weight, and other attributes to classify a person as fit or unfit, etc.\n",
        "\n",
        "\n",
        "In statistics, the logistic model (or logit model) is used to model the probability of a certain class or event existing such as pass/fail, win/lose, alive/dead or healthy/sick.\n",
        "\n",
        "**Why should we learn Logistic Regression?**\n",
        "\n",
        "- It is the first supervised learning algorithm that comes to the mind of data science practitioners to create a strong baseline model to check the uplift.\n",
        "\n",
        "- It is a fundamental, powerful, and easily implementable algorithm. It is also a very intuitive and interpretable model as the final outputs are coefficients depicting the relationship between response variable and features.\n",
        "\n",
        "**Is logistic regression a regressor or a classifier?**\n",
        "\n",
        "Logistic regression is usually used as a classifier because it predicts discrete classes.\n",
        "Having said that, it technically outputs a continuous value associated with each prediction, by producing a probability score along with its classification prediction.\n",
        "\n",
        "So we see that it is actually a regression algorithm that can solve classification problems.\n"
      ]
    },
    {
      "cell_type": "markdown",
      "id": "7c6744d4",
      "metadata": {
        "id": "7c6744d4"
      },
      "source": [
        "## What parameters can be tuned in logistic regression models?\n",
        "\n",
        "There are several hyperparameters that can be optimized in Logistic Regression. To see all the available ones and their possible values, click: https://scikit-learn.org/stable/modules/generated/sklearn.linear_model.LogisticRegression.html\n",
        "\n",
        "However, here we will show you the main hyperparameters we may tune in logistic regression.\n",
        "\n",
        "**Solver** is the algorithm to use in the optimization problem. The choices are {‘newton-cg’, ‘lbfgs’, ‘liblinear’, ‘sag’, ‘saga’}, and the default value is ’lbfgs’.\n",
        "\n",
        "- *lbfgs* relatively performs well compared to other methods and it saves a lot of memory, however, sometimes it may have issues with convergence.\n",
        "\n",
        "- *sag* faster than other solvers for large datasets, when both the number of samples and the number of features are large.\n",
        "\n",
        "- *saga* the solver of choice for sparse multinomial logistic regression and it’s also suitable for very large datasets.\n",
        "\n",
        "- *newton-cg* computationally expensive because of the Hessian Matrix.\n",
        "\n",
        "- *liblinear* recommended when you have a high dimension dataset - solving large-scale classification problems. \n",
        "\n",
        ">Note: ‘sag’ and ‘saga’ fast convergence is only guaranteed on features with approximately the same scale. You can preprocess the data with a scaler from sklearn.preprocessing.\n",
        "\n",
        "**Penalty (or regularization)** intends to reduce model generalization error, and is meant to disincentivize and regulate overfitting. Technique discourages learning a more complex model, so as to avoid the risk of overfitting. The choices are: {‘l1’, ‘l2’, ‘elasticnet’, ‘none’}, and the default value is ’l2’. \n",
        "\n",
        ">Note: not all solvers support all regularization terms.\n",
        "\n",
        "**C (or regularization strength)** must be a positive float. Regularization strength works with the penalty to regulate overfitting. Smaller values specify stronger regularization and high value tells the model to give high weight to the training data.   \n",
        "\n",
        "\n",
        "Logistic regression offers other parameters like: \n",
        "\n",
        "-class_weight\n",
        "\n",
        "-dualbool (for sparse datasets when n_samples > n_features)\n",
        "\n",
        "-max_iter (may improve convergence with higher iterations), and others. However, these provide less impact."
      ]
    },
    {
      "cell_type": "markdown",
      "id": "a45109a1",
      "metadata": {
        "id": "a45109a1"
      },
      "source": [
        "## Using logistic regression in Titanic survival prediction"
      ]
    },
    {
      "cell_type": "markdown",
      "id": "d42c0bce",
      "metadata": {
        "id": "d42c0bce"
      },
      "source": [
        "In Titanic dataset we have more than one feature, and with logistic regression we predict whether they survive or not. If the value the model predict would be 0.85, that would mean the person is 85% a survivor and 15% not a survivor.\n",
        "\n",
        "Let's imagine the titanic dataset only had one feature(Sex) and we would like to predict if the passenger survives or not, what we are trying to calculate is basically:\n",
        "\n",
        "$P(survive|sex=male)$\n",
        "\n",
        "$P(survive|sex=female)$\n",
        "\n",
        "When the probability is greater or equal than 0.5, the binary value is 1, and when the probability is less than 0.5, the binary value is 0. So, the person we just mentioned above would be classified as 1, which means he or she survived. \n",
        "\n",
        "### The logistic regression curve"
      ]
    },
    {
      "cell_type": "markdown",
      "id": "2b620c91",
      "metadata": {
        "id": "2b620c91"
      },
      "source": [
        "![logistic_regression_curve](https://github.com/4GeeksAcademy/machine-learning-content/blob/master/assets/logistic_regression_curve.jpg?raw=1)"
      ]
    },
    {
      "cell_type": "markdown",
      "id": "3284fe19",
      "metadata": {
        "id": "3284fe19"
      },
      "source": [
        "The logistic function, also called the sigmoid function is an S-shaped curve that can take any real-valued number and map it into a value between 0 and 1, but never exactly at those limits.\n",
        "\n",
        "Logistic regression uses maximum-likelihood estimation, which calculates the likelihood of one person being a survivor on Titanic, and then another one, and then another one. After all calculations are done, the model multiplies all those likelihoods and fits the S-shaped line to the data. Keeps calculating, until it finds the best S-shaped line. \n",
        "\n",
        "### The logistic regression equation\n",
        "\n",
        "Input values (x) are combined linearly using weights or coefficient values (referred to as the Greek capital letter Beta) to predict an output value (y). A key difference from linear regression is that the output value being modeled is a binary values (0 or 1) rather than a numeric value.\n",
        "\n",
        "Below is an example logistic regression equation:\n",
        "\n",
        "$y = e^(b0 + b1*x) / (1 + e^(b0 + b1*x))$\n",
        "\n",
        "Where y is the predicted output, b0 is the bias or intercept term and b1 is the coefficient for the single input value (x). Each column in your input data has an associated b coefficient (a constant real value) that must be learned from your training data. This is done using maximum-likelihood estimation. The intuition for maximum-likelihood for logistic regression is that a search procedure seeks values for the coefficients (Beta values) that minimize the error in the probabilities predicted by the model to those in the data.\n",
        "\n",
        "The actual representation of the model that you would store in memory or in a file are the coefficients in the equation (the beta value or b’s).\n",
        "\n",
        "To get the probabilities with Python you can use:\n",
        "\n",
        "```py\n",
        "\n",
        "y_pred = model.predict_proba(X_test)\n",
        "roc_auc_score(y_test, y_pred)\n",
        "\n",
        "```\n",
        "\n",
        "This will give you an array of 'probability to be in each class' given to each observation, but you can also get the probability to be in the class '1':\n",
        "\n",
        "```py\n",
        "\n",
        "# Score\n",
        "\n",
        "y_pred = model.predict_proba(X_test)[:, 1]\n",
        "roc_auc_score(y_test, y_pred)\n",
        "\n",
        "```\n",
        "\n",
        "### Titanic Modeling"
      ]
    },
    {
      "cell_type": "code",
      "execution_count": 65,
      "id": "72bc9351",
      "metadata": {
        "id": "72bc9351"
      },
      "outputs": [],
      "source": [
        "# import libraries\n",
        "\n",
        "import pandas as pd\n",
        "import numpy as np\n",
        "import seaborn as sns\n",
        "import matplotlib.pyplot as plt"
      ]
    },
    {
      "cell_type": "markdown",
      "id": "ce8ef169",
      "metadata": {
        "id": "ce8ef169"
      },
      "source": [
        "**Loading the final dataframe**\n",
        "\n",
        "In order to start modeling, we will focus on our train data and forget temporarily about the dataset where we need to make predictions.\n",
        "\n",
        "Let's start by loading our clean titanic train data and name it final_df."
      ]
    },
    {
      "cell_type": "code",
      "execution_count": 66,
      "id": "8cc5a262",
      "metadata": {
        "id": "8cc5a262"
      },
      "outputs": [],
      "source": [
        "# loading clean train dataset\n",
        "\n",
        "#final_df = pd.read_csv('https://raw.githubusercontent.com/4GeeksAcademy/machine-learning-content/master/assets/clean_titanic_train.csv')\n",
        "final_df = pd.read_csv('../data/raw/clean_titanic_train.csv')"
      ]
    },
    {
      "cell_type": "code",
      "execution_count": 67,
      "id": "61fc24cd",
      "metadata": {
        "id": "61fc24cd",
        "outputId": "3308b769-b809-493d-fb8e-a3f9f9fffbcf"
      },
      "outputs": [
        {
          "data": {
            "text/html": [
              "<div>\n",
              "<style scoped>\n",
              "    .dataframe tbody tr th:only-of-type {\n",
              "        vertical-align: middle;\n",
              "    }\n",
              "\n",
              "    .dataframe tbody tr th {\n",
              "        vertical-align: top;\n",
              "    }\n",
              "\n",
              "    .dataframe thead th {\n",
              "        text-align: right;\n",
              "    }\n",
              "</style>\n",
              "<table border=\"1\" class=\"dataframe\">\n",
              "  <thead>\n",
              "    <tr style=\"text-align: right;\">\n",
              "      <th></th>\n",
              "      <th>Unnamed: 0</th>\n",
              "      <th>Embarked_C</th>\n",
              "      <th>Embarked_Q</th>\n",
              "      <th>Embarked_S</th>\n",
              "      <th>Female</th>\n",
              "      <th>Male</th>\n",
              "      <th>Survived</th>\n",
              "      <th>Pclass</th>\n",
              "      <th>Age</th>\n",
              "      <th>SibSp</th>\n",
              "      <th>Parch</th>\n",
              "      <th>Fare</th>\n",
              "      <th>fam_mbrs</th>\n",
              "    </tr>\n",
              "  </thead>\n",
              "  <tbody>\n",
              "    <tr>\n",
              "      <th>0</th>\n",
              "      <td>0</td>\n",
              "      <td>0.0</td>\n",
              "      <td>0.0</td>\n",
              "      <td>1.0</td>\n",
              "      <td>0.0</td>\n",
              "      <td>1.0</td>\n",
              "      <td>0.0</td>\n",
              "      <td>3.0</td>\n",
              "      <td>0.271174</td>\n",
              "      <td>1.0</td>\n",
              "      <td>0.0</td>\n",
              "      <td>0.027567</td>\n",
              "      <td>1.0</td>\n",
              "    </tr>\n",
              "    <tr>\n",
              "      <th>1</th>\n",
              "      <td>1</td>\n",
              "      <td>1.0</td>\n",
              "      <td>0.0</td>\n",
              "      <td>0.0</td>\n",
              "      <td>1.0</td>\n",
              "      <td>0.0</td>\n",
              "      <td>1.0</td>\n",
              "      <td>1.0</td>\n",
              "      <td>0.472229</td>\n",
              "      <td>1.0</td>\n",
              "      <td>0.0</td>\n",
              "      <td>0.271039</td>\n",
              "      <td>1.0</td>\n",
              "    </tr>\n",
              "    <tr>\n",
              "      <th>2</th>\n",
              "      <td>2</td>\n",
              "      <td>0.0</td>\n",
              "      <td>0.0</td>\n",
              "      <td>1.0</td>\n",
              "      <td>1.0</td>\n",
              "      <td>0.0</td>\n",
              "      <td>1.0</td>\n",
              "      <td>3.0</td>\n",
              "      <td>0.321438</td>\n",
              "      <td>0.0</td>\n",
              "      <td>0.0</td>\n",
              "      <td>0.030133</td>\n",
              "      <td>0.0</td>\n",
              "    </tr>\n",
              "    <tr>\n",
              "      <th>3</th>\n",
              "      <td>3</td>\n",
              "      <td>0.0</td>\n",
              "      <td>0.0</td>\n",
              "      <td>1.0</td>\n",
              "      <td>1.0</td>\n",
              "      <td>0.0</td>\n",
              "      <td>1.0</td>\n",
              "      <td>1.0</td>\n",
              "      <td>0.434531</td>\n",
              "      <td>1.0</td>\n",
              "      <td>0.0</td>\n",
              "      <td>0.201901</td>\n",
              "      <td>1.0</td>\n",
              "    </tr>\n",
              "    <tr>\n",
              "      <th>4</th>\n",
              "      <td>4</td>\n",
              "      <td>0.0</td>\n",
              "      <td>0.0</td>\n",
              "      <td>1.0</td>\n",
              "      <td>0.0</td>\n",
              "      <td>1.0</td>\n",
              "      <td>0.0</td>\n",
              "      <td>3.0</td>\n",
              "      <td>0.434531</td>\n",
              "      <td>0.0</td>\n",
              "      <td>0.0</td>\n",
              "      <td>0.030608</td>\n",
              "      <td>0.0</td>\n",
              "    </tr>\n",
              "    <tr>\n",
              "      <th>5</th>\n",
              "      <td>5</td>\n",
              "      <td>0.0</td>\n",
              "      <td>1.0</td>\n",
              "      <td>0.0</td>\n",
              "      <td>0.0</td>\n",
              "      <td>1.0</td>\n",
              "      <td>0.0</td>\n",
              "      <td>3.0</td>\n",
              "      <td>0.346569</td>\n",
              "      <td>0.0</td>\n",
              "      <td>0.0</td>\n",
              "      <td>0.032161</td>\n",
              "      <td>0.0</td>\n",
              "    </tr>\n",
              "    <tr>\n",
              "      <th>6</th>\n",
              "      <td>6</td>\n",
              "      <td>0.0</td>\n",
              "      <td>0.0</td>\n",
              "      <td>1.0</td>\n",
              "      <td>0.0</td>\n",
              "      <td>1.0</td>\n",
              "      <td>0.0</td>\n",
              "      <td>1.0</td>\n",
              "      <td>0.673285</td>\n",
              "      <td>0.0</td>\n",
              "      <td>0.0</td>\n",
              "      <td>0.197196</td>\n",
              "      <td>0.0</td>\n",
              "    </tr>\n",
              "    <tr>\n",
              "      <th>7</th>\n",
              "      <td>7</td>\n",
              "      <td>0.0</td>\n",
              "      <td>0.0</td>\n",
              "      <td>1.0</td>\n",
              "      <td>0.0</td>\n",
              "      <td>1.0</td>\n",
              "      <td>0.0</td>\n",
              "      <td>3.0</td>\n",
              "      <td>0.019854</td>\n",
              "      <td>3.0</td>\n",
              "      <td>1.0</td>\n",
              "      <td>0.080133</td>\n",
              "      <td>4.0</td>\n",
              "    </tr>\n",
              "    <tr>\n",
              "      <th>8</th>\n",
              "      <td>8</td>\n",
              "      <td>0.0</td>\n",
              "      <td>0.0</td>\n",
              "      <td>1.0</td>\n",
              "      <td>1.0</td>\n",
              "      <td>0.0</td>\n",
              "      <td>1.0</td>\n",
              "      <td>3.0</td>\n",
              "      <td>0.334004</td>\n",
              "      <td>0.0</td>\n",
              "      <td>2.0</td>\n",
              "      <td>0.042332</td>\n",
              "      <td>2.0</td>\n",
              "    </tr>\n",
              "    <tr>\n",
              "      <th>9</th>\n",
              "      <td>9</td>\n",
              "      <td>1.0</td>\n",
              "      <td>0.0</td>\n",
              "      <td>0.0</td>\n",
              "      <td>1.0</td>\n",
              "      <td>0.0</td>\n",
              "      <td>1.0</td>\n",
              "      <td>2.0</td>\n",
              "      <td>0.170646</td>\n",
              "      <td>1.0</td>\n",
              "      <td>0.0</td>\n",
              "      <td>0.114338</td>\n",
              "      <td>1.0</td>\n",
              "    </tr>\n",
              "  </tbody>\n",
              "</table>\n",
              "</div>"
            ],
            "text/plain": [
              "   Unnamed: 0  Embarked_C  Embarked_Q  Embarked_S  Female  Male  Survived  \\\n",
              "0           0         0.0         0.0         1.0     0.0   1.0       0.0   \n",
              "1           1         1.0         0.0         0.0     1.0   0.0       1.0   \n",
              "2           2         0.0         0.0         1.0     1.0   0.0       1.0   \n",
              "3           3         0.0         0.0         1.0     1.0   0.0       1.0   \n",
              "4           4         0.0         0.0         1.0     0.0   1.0       0.0   \n",
              "5           5         0.0         1.0         0.0     0.0   1.0       0.0   \n",
              "6           6         0.0         0.0         1.0     0.0   1.0       0.0   \n",
              "7           7         0.0         0.0         1.0     0.0   1.0       0.0   \n",
              "8           8         0.0         0.0         1.0     1.0   0.0       1.0   \n",
              "9           9         1.0         0.0         0.0     1.0   0.0       1.0   \n",
              "\n",
              "   Pclass       Age  SibSp  Parch      Fare  fam_mbrs  \n",
              "0     3.0  0.271174    1.0    0.0  0.027567       1.0  \n",
              "1     1.0  0.472229    1.0    0.0  0.271039       1.0  \n",
              "2     3.0  0.321438    0.0    0.0  0.030133       0.0  \n",
              "3     1.0  0.434531    1.0    0.0  0.201901       1.0  \n",
              "4     3.0  0.434531    0.0    0.0  0.030608       0.0  \n",
              "5     3.0  0.346569    0.0    0.0  0.032161       0.0  \n",
              "6     1.0  0.673285    0.0    0.0  0.197196       0.0  \n",
              "7     3.0  0.019854    3.0    1.0  0.080133       4.0  \n",
              "8     3.0  0.334004    0.0    2.0  0.042332       2.0  \n",
              "9     2.0  0.170646    1.0    0.0  0.114338       1.0  "
            ]
          },
          "execution_count": 67,
          "metadata": {},
          "output_type": "execute_result"
        }
      ],
      "source": [
        "# Let's take a look at our first 10 rows to verify all data is numerical\n",
        "\n",
        "final_df.head(10)"
      ]
    },
    {
      "cell_type": "markdown",
      "id": "ea1adc7d",
      "metadata": {
        "id": "ea1adc7d"
      },
      "source": [
        "**Separate features and target as X and y**"
      ]
    },
    {
      "cell_type": "code",
      "execution_count": 68,
      "id": "f6a524ab",
      "metadata": {
        "id": "f6a524ab"
      },
      "outputs": [],
      "source": [
        "X = final_df.drop(['Survived','Unnamed: 0'], axis=1)\n",
        "y = final_df['Survived']"
      ]
    },
    {
      "cell_type": "markdown",
      "id": "7c767616",
      "metadata": {
        "id": "7c767616"
      },
      "source": [
        "**Split dataframe in training set and testing set**"
      ]
    },
    {
      "cell_type": "code",
      "execution_count": 69,
      "id": "ae54636d",
      "metadata": {
        "id": "ae54636d"
      },
      "outputs": [],
      "source": [
        "#from sklearn.model_selection import train_test_split\n",
        "\n",
        "#X_train, X_test, y_train, y_test = train_test_split(X, y, test_size=0.2, random_state=42)"
      ]
    },
    {
      "cell_type": "code",
      "execution_count": 70,
      "id": "60045844",
      "metadata": {},
      "outputs": [],
      "source": [
        "from sklearn.model_selection import train_test_split\n",
        "\n",
        "X_train, X_test, y_train, y_test = train_test_split(X, y, test_size=0.2, random_state=42)"
      ]
    },
    {
      "cell_type": "code",
      "execution_count": 71,
      "id": "80afe320",
      "metadata": {
        "id": "80afe320"
      },
      "outputs": [],
      "source": [
        "from sklearn.linear_model import LogisticRegression\n",
        "\n",
        "# Instantiate Logistic Regression\n",
        "\n",
        "model = LogisticRegression()"
      ]
    },
    {
      "cell_type": "code",
      "execution_count": 72,
      "id": "275f668c",
      "metadata": {
        "id": "275f668c",
        "outputId": "8ecfdc02-c05a-432a-c171-dd0103e8d46d"
      },
      "outputs": [
        {
          "data": {
            "text/html": [
              "<style>#sk-container-id-5 {color: black;background-color: white;}#sk-container-id-5 pre{padding: 0;}#sk-container-id-5 div.sk-toggleable {background-color: white;}#sk-container-id-5 label.sk-toggleable__label {cursor: pointer;display: block;width: 100%;margin-bottom: 0;padding: 0.3em;box-sizing: border-box;text-align: center;}#sk-container-id-5 label.sk-toggleable__label-arrow:before {content: \"▸\";float: left;margin-right: 0.25em;color: #696969;}#sk-container-id-5 label.sk-toggleable__label-arrow:hover:before {color: black;}#sk-container-id-5 div.sk-estimator:hover label.sk-toggleable__label-arrow:before {color: black;}#sk-container-id-5 div.sk-toggleable__content {max-height: 0;max-width: 0;overflow: hidden;text-align: left;background-color: #f0f8ff;}#sk-container-id-5 div.sk-toggleable__content pre {margin: 0.2em;color: black;border-radius: 0.25em;background-color: #f0f8ff;}#sk-container-id-5 input.sk-toggleable__control:checked~div.sk-toggleable__content {max-height: 200px;max-width: 100%;overflow: auto;}#sk-container-id-5 input.sk-toggleable__control:checked~label.sk-toggleable__label-arrow:before {content: \"▾\";}#sk-container-id-5 div.sk-estimator input.sk-toggleable__control:checked~label.sk-toggleable__label {background-color: #d4ebff;}#sk-container-id-5 div.sk-label input.sk-toggleable__control:checked~label.sk-toggleable__label {background-color: #d4ebff;}#sk-container-id-5 input.sk-hidden--visually {border: 0;clip: rect(1px 1px 1px 1px);clip: rect(1px, 1px, 1px, 1px);height: 1px;margin: -1px;overflow: hidden;padding: 0;position: absolute;width: 1px;}#sk-container-id-5 div.sk-estimator {font-family: monospace;background-color: #f0f8ff;border: 1px dotted black;border-radius: 0.25em;box-sizing: border-box;margin-bottom: 0.5em;}#sk-container-id-5 div.sk-estimator:hover {background-color: #d4ebff;}#sk-container-id-5 div.sk-parallel-item::after {content: \"\";width: 100%;border-bottom: 1px solid gray;flex-grow: 1;}#sk-container-id-5 div.sk-label:hover label.sk-toggleable__label {background-color: #d4ebff;}#sk-container-id-5 div.sk-serial::before {content: \"\";position: absolute;border-left: 1px solid gray;box-sizing: border-box;top: 0;bottom: 0;left: 50%;z-index: 0;}#sk-container-id-5 div.sk-serial {display: flex;flex-direction: column;align-items: center;background-color: white;padding-right: 0.2em;padding-left: 0.2em;position: relative;}#sk-container-id-5 div.sk-item {position: relative;z-index: 1;}#sk-container-id-5 div.sk-parallel {display: flex;align-items: stretch;justify-content: center;background-color: white;position: relative;}#sk-container-id-5 div.sk-item::before, #sk-container-id-5 div.sk-parallel-item::before {content: \"\";position: absolute;border-left: 1px solid gray;box-sizing: border-box;top: 0;bottom: 0;left: 50%;z-index: -1;}#sk-container-id-5 div.sk-parallel-item {display: flex;flex-direction: column;z-index: 1;position: relative;background-color: white;}#sk-container-id-5 div.sk-parallel-item:first-child::after {align-self: flex-end;width: 50%;}#sk-container-id-5 div.sk-parallel-item:last-child::after {align-self: flex-start;width: 50%;}#sk-container-id-5 div.sk-parallel-item:only-child::after {width: 0;}#sk-container-id-5 div.sk-dashed-wrapped {border: 1px dashed gray;margin: 0 0.4em 0.5em 0.4em;box-sizing: border-box;padding-bottom: 0.4em;background-color: white;}#sk-container-id-5 div.sk-label label {font-family: monospace;font-weight: bold;display: inline-block;line-height: 1.2em;}#sk-container-id-5 div.sk-label-container {text-align: center;}#sk-container-id-5 div.sk-container {/* jupyter's `normalize.less` sets `[hidden] { display: none; }` but bootstrap.min.css set `[hidden] { display: none !important; }` so we also need the `!important` here to be able to override the default hidden behavior on the sphinx rendered scikit-learn.org. See: https://github.com/scikit-learn/scikit-learn/issues/21755 */display: inline-block !important;position: relative;}#sk-container-id-5 div.sk-text-repr-fallback {display: none;}</style><div id=\"sk-container-id-5\" class=\"sk-top-container\"><div class=\"sk-text-repr-fallback\"><pre>LogisticRegression()</pre><b>In a Jupyter environment, please rerun this cell to show the HTML representation or trust the notebook. <br />On GitHub, the HTML representation is unable to render, please try loading this page with nbviewer.org.</b></div><div class=\"sk-container\" hidden><div class=\"sk-item\"><div class=\"sk-estimator sk-toggleable\"><input class=\"sk-toggleable__control sk-hidden--visually\" id=\"sk-estimator-id-5\" type=\"checkbox\" checked><label for=\"sk-estimator-id-5\" class=\"sk-toggleable__label sk-toggleable__label-arrow\">LogisticRegression</label><div class=\"sk-toggleable__content\"><pre>LogisticRegression()</pre></div></div></div></div></div>"
            ],
            "text/plain": [
              "LogisticRegression()"
            ]
          },
          "execution_count": 72,
          "metadata": {},
          "output_type": "execute_result"
        }
      ],
      "source": [
        "# Fit the data\n",
        "\n",
        "model.fit(X_train, y_train)"
      ]
    },
    {
      "cell_type": "code",
      "execution_count": 73,
      "id": "2d331b6c",
      "metadata": {
        "id": "2d331b6c",
        "outputId": "a6c44c58-38da-4daa-e33b-087a9b621c5c"
      },
      "outputs": [
        {
          "data": {
            "text/plain": [
              "array([0., 1., 1., 0., 1., 0., 0., 0., 1., 1., 1., 1., 0., 0., 0., 0., 0.,\n",
              "       0., 0., 0., 0., 0., 0., 1., 0., 1., 0., 1., 0., 0., 0., 1., 0., 1.,\n",
              "       0., 1., 1., 0., 0., 0., 0., 1., 0., 1., 0., 1., 1., 1., 0., 1., 1.,\n",
              "       1., 0., 1., 1., 1., 1., 0., 0., 1., 0., 1., 1., 0., 0., 0., 0., 0.,\n",
              "       0., 1., 0., 1., 1., 1., 0., 0., 1., 0., 0., 0., 0., 0., 1., 1., 0.,\n",
              "       0., 0., 0., 0., 0., 0., 1., 1., 1., 0., 0., 0., 0., 0., 0., 1., 0.,\n",
              "       1., 0., 0., 0., 1., 1., 0., 0., 0., 0., 0., 1., 0., 0., 0., 0., 0.,\n",
              "       0., 1., 1., 0., 0., 1., 0., 0., 1., 1., 0., 0., 1., 0., 0., 1., 0.,\n",
              "       1., 1., 1., 1., 0., 0., 1., 0., 1., 1., 0., 1., 0., 1., 0., 1., 1.,\n",
              "       0., 0., 1., 1., 1., 0., 1., 0., 1., 0., 0., 0., 0., 1., 0., 0., 1.,\n",
              "       1., 1., 1., 0., 1., 0., 1., 1.])"
            ]
          },
          "execution_count": 73,
          "metadata": {},
          "output_type": "execute_result"
        }
      ],
      "source": [
        "# Make predictions\n",
        "y_pred = model.predict(X_test)\n",
        "y_pred"
      ]
    },
    {
      "cell_type": "code",
      "execution_count": 74,
      "id": "1bd7a781",
      "metadata": {},
      "outputs": [
        {
          "data": {
            "text/plain": [
              "array([0., 0., 0., 0., 0., 1., 0., 0., 0., 0., 0., 0., 0., 0., 0., 0., 0.,\n",
              "       0., 0., 0., 0., 0., 0., 1., 0., 1., 0., 0., 0., 0., 1., 1., 0., 0.,\n",
              "       0., 0., 0., 0., 0., 1., 0., 0., 1., 1., 1., 1., 1., 0., 0., 0., 1.,\n",
              "       1., 1., 0., 0., 0., 0., 1., 0., 1., 0., 0., 1., 0., 1., 0., 0., 0.,\n",
              "       1., 0., 0., 1., 0., 0., 0., 1., 0., 1., 0., 1., 1., 0., 0., 0., 0.,\n",
              "       1., 0., 0., 0., 1., 1., 1., 0., 0., 0., 1., 0., 1., 0., 1., 1., 0.,\n",
              "       0., 1., 0., 0., 0., 1., 0., 0., 0., 0., 0., 1., 1., 0., 0., 1., 1.,\n",
              "       0., 1., 1., 0., 0., 0., 0., 1., 1., 0., 0., 0., 0., 1., 1., 0., 0.,\n",
              "       1., 1., 1., 1., 1., 0., 0., 0., 0., 1., 0., 0., 0., 1., 1., 0., 0.,\n",
              "       1., 1., 0., 0., 1., 1., 0., 1., 0., 0., 0., 0., 0., 0., 1., 1., 0.,\n",
              "       0., 1., 0., 0., 0., 0., 0., 0., 0., 0., 0., 1., 0., 1., 0., 1., 1.,\n",
              "       0., 0., 0., 1., 1., 0., 1., 0., 0., 0., 1., 1., 1., 0., 1., 0., 1.,\n",
              "       0., 0., 0., 0., 0., 0., 0., 1., 0., 1., 0., 0., 1., 1., 0., 1., 1.,\n",
              "       1., 0., 1., 0., 1., 1., 1., 0., 0., 1., 0., 1., 0., 1., 0., 1., 1.,\n",
              "       0., 1., 1., 1., 1., 1., 0., 0., 0., 1., 0., 1., 1., 1., 0., 1., 0.,\n",
              "       1., 0., 0., 0., 0., 0., 0., 0., 0., 1., 0., 0., 0., 1., 0., 0., 0.,\n",
              "       0., 1., 0., 0., 0., 1., 1., 1., 1., 0., 0., 1., 0., 0., 0., 1., 1.,\n",
              "       0., 1., 1., 0., 0., 0., 1., 0., 1., 1., 1., 0., 0., 0., 1., 0., 0.,\n",
              "       0., 0., 0., 0., 0., 1., 0., 0., 0., 0., 0., 1., 1., 0., 1., 0., 0.,\n",
              "       0., 0., 0., 0., 0., 1., 0., 0., 0., 0., 0., 0., 0., 0., 0., 1., 0.,\n",
              "       0., 1., 0., 1., 0., 0., 0., 0., 1., 0., 0., 0., 0., 0., 1., 0., 0.,\n",
              "       1., 0., 0., 1., 1., 1., 0., 1., 0., 0., 0., 0., 0., 0., 0., 1., 0.,\n",
              "       1., 1., 0., 1., 0., 0., 0., 0., 0., 0., 1., 1., 1., 0., 0., 0., 0.,\n",
              "       0., 0., 0., 0., 0., 0., 0., 0., 1., 1., 0., 0., 1., 0., 1., 0., 0.,\n",
              "       1., 1., 1., 1., 0., 0., 0., 0., 0., 1., 0., 1., 0., 1., 0., 0., 0.,\n",
              "       0., 0., 1., 1., 1., 0., 0., 0., 1., 1., 0., 0., 0., 0., 0., 0., 0.,\n",
              "       1., 1., 0., 0., 0., 1., 0., 0., 0., 0., 0., 1., 0., 0., 0., 0., 0.,\n",
              "       0., 0., 1., 1., 0., 1., 0., 1., 0., 0., 0., 0., 0., 0., 0., 0., 0.,\n",
              "       1., 1., 0., 0., 0., 0., 1., 1., 0., 0., 1., 0., 0., 1., 0., 0., 1.,\n",
              "       1., 0., 0., 1., 0., 0., 0., 0., 0., 0., 1., 0., 1., 0., 0., 0., 0.,\n",
              "       1., 1., 1., 0., 1., 1., 1., 0., 0., 0., 1., 0., 0., 0., 1., 1., 0.,\n",
              "       1., 0., 0., 0., 0., 0., 0., 0., 0., 1., 0., 1., 0., 0., 1., 0., 0.,\n",
              "       0., 0., 0., 0., 0., 0., 1., 0., 1., 1., 0., 0., 0., 1., 1., 0., 1.,\n",
              "       0., 0., 0., 0., 0., 0., 0., 0., 0., 1., 0., 1., 1., 0., 0., 1., 1.,\n",
              "       1., 0., 0., 0., 0., 1., 0., 0., 1., 1., 0., 0., 1., 0., 0., 0., 1.,\n",
              "       0., 1., 0., 0., 1., 1., 1., 0., 0., 1., 0., 1., 1., 1., 0., 0., 0.,\n",
              "       1., 0., 0., 1., 0., 0., 0., 1., 0., 0., 1., 1., 0., 1., 0., 0., 1.,\n",
              "       0., 0., 0., 1., 0., 0., 0., 1., 1., 0., 0., 0., 0., 1., 0., 0., 0.,\n",
              "       1., 1., 1., 0., 1., 0., 0., 1., 1., 0., 0., 0., 0., 0., 1., 0., 0.,\n",
              "       1., 0., 0., 0., 0., 0., 0., 0., 0., 1., 0., 0., 1., 0., 0., 0., 0.,\n",
              "       0., 0., 0., 0., 0., 0., 0., 0., 1., 1., 0., 0., 0., 0., 1., 0., 0.,\n",
              "       0., 0., 0., 0., 1., 0., 1., 0., 1., 0., 0., 0., 1.])"
            ]
          },
          "execution_count": 74,
          "metadata": {},
          "output_type": "execute_result"
        }
      ],
      "source": [
        "#Lo entrenamos con otro dataset X_train\n",
        "y_pred_train = model.predict(X_train)\n",
        "y_pred_train"
      ]
    },
    {
      "cell_type": "code",
      "execution_count": 75,
      "id": "e7153045",
      "metadata": {
        "id": "e7153045",
        "outputId": "4d3c472f-ed4a-40e9-9f61-f9f92f1868e4"
      },
      "outputs": [
        {
          "data": {
            "text/plain": [
              "0.8146067415730337"
            ]
          },
          "execution_count": 75,
          "metadata": {},
          "output_type": "execute_result"
        }
      ],
      "source": [
        "# Check the accuracy score\n",
        "\n",
        "from sklearn.metrics import accuracy_score, confusion_matrix\n",
        "from sklearn.metrics import roc_auc_score\n",
        "\n",
        "accuracy_score(y_test, y_pred)"
      ]
    },
    {
      "cell_type": "code",
      "execution_count": 76,
      "id": "972f952c",
      "metadata": {},
      "outputs": [
        {
          "data": {
            "text/plain": [
              "0.7971830985915493"
            ]
          },
          "execution_count": 76,
          "metadata": {},
          "output_type": "execute_result"
        }
      ],
      "source": [
        "accuracy_score(y_train, y_pred_train)"
      ]
    },
    {
      "cell_type": "code",
      "execution_count": 77,
      "id": "db7adbdf",
      "metadata": {},
      "outputs": [
        {
          "data": {
            "text/plain": [
              "0.0    549\n",
              "1.0    339\n",
              "Name: Survived, dtype: int64"
            ]
          },
          "execution_count": 77,
          "metadata": {},
          "output_type": "execute_result"
        }
      ],
      "source": [
        "y.value_counts()"
      ]
    },
    {
      "cell_type": "code",
      "execution_count": 78,
      "id": "e85db96c",
      "metadata": {},
      "outputs": [
        {
          "data": {
            "image/png": "[encoded data removed]",
            "text/plain": [
              "<Figure size 432x288 with 1 Axes>"
            ]
          },
          "metadata": {
            "needs_background": "light"
          },
          "output_type": "display_data"
        }
      ],
      "source": [
        "y.hist()\n",
        "plt.show()"
      ]
    },
    {
      "cell_type": "code",
      "execution_count": 79,
      "id": "2072d9c4",
      "metadata": {
        "id": "2072d9c4",
        "outputId": "c3308836-54fc-429b-93e3-1f37221c2e00"
      },
      "outputs": [
        {
          "data": {
            "text/plain": [
              "array([[87, 16],\n",
              "       [17, 58]])"
            ]
          },
          "execution_count": 79,
          "metadata": {},
          "output_type": "execute_result"
        }
      ],
      "source": [
        "# Confusion Matrix\n",
        "\n",
        "titanic_cm = confusion_matrix(y_pred, y_test)\n",
        "titanic_cm"
      ]
    },
    {
      "cell_type": "code",
      "execution_count": 80,
      "id": "8ade0cc4",
      "metadata": {},
      "outputs": [
        {
          "data": {
            "text/plain": [
              "array([[386,  85],\n",
              "       [ 59, 180]])"
            ]
          },
          "execution_count": 80,
          "metadata": {},
          "output_type": "execute_result"
        }
      ],
      "source": [
        "# Confusion Matrix train\n",
        "\n",
        "titanic_cm_train = confusion_matrix(y_pred_train, y_train)\n",
        "titanic_cm_train"
      ]
    },
    {
      "cell_type": "markdown",
      "id": "ff2b1602",
      "metadata": {
        "id": "ff2b1602"
      },
      "source": [
        "If you want you can put your confusion matrix a more beautiful graph"
      ]
    },
    {
      "cell_type": "code",
      "execution_count": 81,
      "id": "0b070aed",
      "metadata": {
        "id": "0b070aed",
        "outputId": "eca43b38-b43e-4239-b80e-94fec10d91df"
      },
      "outputs": [
        {
          "data": {
            "image/png": "[encoded data removed]",
            "text/plain": [
              "<Figure size 360x360 with 1 Axes>"
            ]
          },
          "metadata": {
            "needs_background": "light"
          },
          "output_type": "display_data"
        }
      ],
      "source": [
        "# convert the ndarray to a pandas dataframe\n",
        "cm_df = pd.DataFrame(titanic_cm)\n",
        "# set the size of the figure\n",
        "plt.figure(figsize = (5,5))\n",
        "sns.heatmap(cm_df, \n",
        "           annot=True, annot_kws={\"size\": 25},\n",
        "           fmt=\"d\",         # decimals format\n",
        "           xticklabels=True, \n",
        "           yticklabels=True,\n",
        "           cmap=\"viridis\", \n",
        "           cbar=False)\n",
        "plt.show()"
      ]
    },
    {
      "cell_type": "code",
      "execution_count": 82,
      "id": "a01f1b43",
      "metadata": {},
      "outputs": [],
      "source": [
        "titanic_df = pd.DataFrame(titanic_cm)\n",
        "titanic_cm_norm = titanic_df.apply(lambda x: x/x.sum(),axis = 1)"
      ]
    },
    {
      "cell_type": "code",
      "execution_count": 83,
      "id": "70d1e298",
      "metadata": {},
      "outputs": [
        {
          "data": {
            "image/png": "[encoded data removed]",
            "text/plain": [
              "<Figure size 360x360 with 1 Axes>"
            ]
          },
          "metadata": {
            "needs_background": "light"
          },
          "output_type": "display_data"
        }
      ],
      "source": [
        "# convert the ndarray to a pandas dataframe\n",
        "cm_df_norm = pd.DataFrame(titanic_cm_norm)\n",
        "# set the size of the figure\n",
        "plt.figure(figsize = (5,5))\n",
        "sns.heatmap(cm_df_norm, \n",
        "           annot=True, annot_kws={\"size\": 25},\n",
        "           fmt=\"f\",         # decimals format\n",
        "           xticklabels=True, \n",
        "           yticklabels=True,\n",
        "           cmap=\"viridis\", \n",
        "           cbar=False)\n",
        "plt.show()"
      ]
    },
    {
      "cell_type": "markdown",
      "id": "28fd0338",
      "metadata": {
        "id": "28fd0338"
      },
      "source": [
        "Observations: 16 + 17 = 33 wrong prediction. Can we can do better?"
      ]
    },
    {
      "cell_type": "code",
      "execution_count": 84,
      "id": "869b6327",
      "metadata": {},
      "outputs": [
        {
          "data": {
            "text/plain": [
              "58.0"
            ]
          },
          "execution_count": 84,
          "metadata": {},
          "output_type": "execute_result"
        }
      ],
      "source": [
        "np.sum(y_pred * y_test)"
      ]
    },
    {
      "cell_type": "code",
      "execution_count": 85,
      "id": "25bedc0a",
      "metadata": {},
      "outputs": [],
      "source": [
        "titanic_cm_train = confusion_matrix(y_pred_train, y_train)\n",
        "titanic_df_train = pd.DataFrame(titanic_cm_train)\n",
        "titanic_cm_norm_train = titanic_df_train.apply(lambda x: x/x.sum(),axis = 1)"
      ]
    },
    {
      "cell_type": "code",
      "execution_count": 86,
      "id": "4cd3efd8",
      "metadata": {},
      "outputs": [
        {
          "data": {
            "text/html": [
              "<div>\n",
              "<style scoped>\n",
              "    .dataframe tbody tr th:only-of-type {\n",
              "        vertical-align: middle;\n",
              "    }\n",
              "\n",
              "    .dataframe tbody tr th {\n",
              "        vertical-align: top;\n",
              "    }\n",
              "\n",
              "    .dataframe thead th {\n",
              "        text-align: right;\n",
              "    }\n",
              "</style>\n",
              "<table border=\"1\" class=\"dataframe\">\n",
              "  <thead>\n",
              "    <tr style=\"text-align: right;\">\n",
              "      <th></th>\n",
              "      <th>0</th>\n",
              "      <th>1</th>\n",
              "    </tr>\n",
              "  </thead>\n",
              "  <tbody>\n",
              "    <tr>\n",
              "      <th>0</th>\n",
              "      <td>0.819533</td>\n",
              "      <td>0.180467</td>\n",
              "    </tr>\n",
              "    <tr>\n",
              "      <th>1</th>\n",
              "      <td>0.246862</td>\n",
              "      <td>0.753138</td>\n",
              "    </tr>\n",
              "  </tbody>\n",
              "</table>\n",
              "</div>"
            ],
            "text/plain": [
              "          0         1\n",
              "0  0.819533  0.180467\n",
              "1  0.246862  0.753138"
            ]
          },
          "execution_count": 86,
          "metadata": {},
          "output_type": "execute_result"
        }
      ],
      "source": [
        "titanic_cm_norm_train"
      ]
    },
    {
      "cell_type": "markdown",
      "id": "45688802",
      "metadata": {
        "id": "45688802"
      },
      "source": [
        "Let's use GridSearch to see what would be the best hyperparameters for our Logistic Regression model. \n",
        "\n",
        "The code below demonstrates grid searching the key hyperparameters for LogisticRegression on a binary classification dataset, in this case our Titanic dataset."
      ]
    },
    {
      "cell_type": "code",
      "execution_count": 87,
      "id": "07004e36",
      "metadata": {
        "id": "07004e36",
        "outputId": "acc1c42a-ebf0-422c-b448-a031c52bccd4"
      },
      "outputs": [
        {
          "name": "stdout",
          "output_type": "stream",
          "text": [
            "Best: 0.798102 using {'C': 0.1, 'penalty': 'l2', 'solver': 'newton-cg'}\n",
            "0.793216 (0.032933) with: {'C': 100, 'penalty': 'l2', 'solver': 'newton-cg'}\n",
            "0.793216 (0.032933) with: {'C': 100, 'penalty': 'l2', 'solver': 'lbfgs'}\n",
            "0.792833 (0.031946) with: {'C': 100, 'penalty': 'l2', 'solver': 'liblinear'}\n",
            "0.793212 (0.032824) with: {'C': 10, 'penalty': 'l2', 'solver': 'newton-cg'}\n",
            "0.793212 (0.032824) with: {'C': 10, 'penalty': 'l2', 'solver': 'lbfgs'}\n",
            "0.793969 (0.031699) with: {'C': 10, 'penalty': 'l2', 'solver': 'liblinear'}\n",
            "0.796582 (0.034081) with: {'C': 1.0, 'penalty': 'l2', 'solver': 'newton-cg'}\n",
            "0.796582 (0.034081) with: {'C': 1.0, 'penalty': 'l2', 'solver': 'lbfgs'}\n",
            "0.796229 (0.036167) with: {'C': 1.0, 'penalty': 'l2', 'solver': 'liblinear'}\n",
            "0.798102 (0.037820) with: {'C': 0.1, 'penalty': 'l2', 'solver': 'newton-cg'}\n",
            "0.798102 (0.037820) with: {'C': 0.1, 'penalty': 'l2', 'solver': 'lbfgs'}\n",
            "0.797706 (0.040030) with: {'C': 0.1, 'penalty': 'l2', 'solver': 'liblinear'}\n",
            "0.783801 (0.034749) with: {'C': 0.01, 'penalty': 'l2', 'solver': 'newton-cg'}\n",
            "0.783801 (0.034749) with: {'C': 0.01, 'penalty': 'l2', 'solver': 'lbfgs'}\n",
            "0.783048 (0.033317) with: {'C': 0.01, 'penalty': 'l2', 'solver': 'liblinear'}\n"
          ]
        }
      ],
      "source": [
        "from sklearn.model_selection import RepeatedStratifiedKFold\n",
        "from sklearn.model_selection import GridSearchCV\n",
        "from sklearn.linear_model import LogisticRegression\n",
        "\n",
        "# define models and parameters\n",
        "\n",
        "model = LogisticRegression()\n",
        "solvers = ['newton-cg', 'lbfgs', 'liblinear']\n",
        "penalty = ['l2']\n",
        "c_values = [100, 10, 1.0, 0.1, 0.01]\n",
        "\n",
        "# define grid search\n",
        "\n",
        "grid = dict(solver=solvers,penalty=penalty,C=c_values)\n",
        "cv = RepeatedStratifiedKFold(n_splits=10, n_repeats=3, random_state=1)\n",
        "grid_search = GridSearchCV(estimator=model, param_grid=grid, n_jobs=-1, cv=cv, scoring='accuracy',error_score=0)\n",
        "grid_result = grid_search.fit(X, y)\n",
        "\n",
        "# summarize results\n",
        "print(\"Best: %f using %s\" % (grid_result.best_score_, grid_result.best_params_))\n",
        "means = grid_result.cv_results_['mean_test_score']\n",
        "stds = grid_result.cv_results_['std_test_score']\n",
        "params = grid_result.cv_results_['params']\n",
        "for mean, stdev, param in zip(means, stds, params):\n",
        "    print(\"%f (%f) with: %r\" % (mean, stdev, param))"
      ]
    },
    {
      "cell_type": "markdown",
      "id": "cc072cbe",
      "metadata": {
        "id": "cc072cbe"
      },
      "source": [
        "Solver newton-cg supports only 'l2' or 'none' penalties, that is why we only included 'l2'.\n",
        "\n",
        "\n",
        "Observations: We actually got a better score first. Let's confirm these by getting the confusion matrix again."
      ]
    },
    {
      "cell_type": "code",
      "execution_count": 88,
      "id": "12be01d9",
      "metadata": {
        "id": "12be01d9"
      },
      "outputs": [],
      "source": [
        "# Hypertune parameters\n",
        "\n",
        "optimized_model = LogisticRegression(C= 0.1, penalty='l2', solver= 'newton-cg')\n"
      ]
    },
    {
      "cell_type": "code",
      "execution_count": 89,
      "id": "0c54d280",
      "metadata": {
        "id": "0c54d280",
        "outputId": "86936e2d-2a8e-42f5-cb63-867a22271b4a"
      },
      "outputs": [
        {
          "data": {
            "text/html": [
              "<style>#sk-container-id-6 {color: black;background-color: white;}#sk-container-id-6 pre{padding: 0;}#sk-container-id-6 div.sk-toggleable {background-color: white;}#sk-container-id-6 label.sk-toggleable__label {cursor: pointer;display: block;width: 100%;margin-bottom: 0;padding: 0.3em;box-sizing: border-box;text-align: center;}#sk-container-id-6 label.sk-toggleable__label-arrow:before {content: \"▸\";float: left;margin-right: 0.25em;color: #696969;}#sk-container-id-6 label.sk-toggleable__label-arrow:hover:before {color: black;}#sk-container-id-6 div.sk-estimator:hover label.sk-toggleable__label-arrow:before {color: black;}#sk-container-id-6 div.sk-toggleable__content {max-height: 0;max-width: 0;overflow: hidden;text-align: left;background-color: #f0f8ff;}#sk-container-id-6 div.sk-toggleable__content pre {margin: 0.2em;color: black;border-radius: 0.25em;background-color: #f0f8ff;}#sk-container-id-6 input.sk-toggleable__control:checked~div.sk-toggleable__content {max-height: 200px;max-width: 100%;overflow: auto;}#sk-container-id-6 input.sk-toggleable__control:checked~label.sk-toggleable__label-arrow:before {content: \"▾\";}#sk-container-id-6 div.sk-estimator input.sk-toggleable__control:checked~label.sk-toggleable__label {background-color: #d4ebff;}#sk-container-id-6 div.sk-label input.sk-toggleable__control:checked~label.sk-toggleable__label {background-color: #d4ebff;}#sk-container-id-6 input.sk-hidden--visually {border: 0;clip: rect(1px 1px 1px 1px);clip: rect(1px, 1px, 1px, 1px);height: 1px;margin: -1px;overflow: hidden;padding: 0;position: absolute;width: 1px;}#sk-container-id-6 div.sk-estimator {font-family: monospace;background-color: #f0f8ff;border: 1px dotted black;border-radius: 0.25em;box-sizing: border-box;margin-bottom: 0.5em;}#sk-container-id-6 div.sk-estimator:hover {background-color: #d4ebff;}#sk-container-id-6 div.sk-parallel-item::after {content: \"\";width: 100%;border-bottom: 1px solid gray;flex-grow: 1;}#sk-container-id-6 div.sk-label:hover label.sk-toggleable__label {background-color: #d4ebff;}#sk-container-id-6 div.sk-serial::before {content: \"\";position: absolute;border-left: 1px solid gray;box-sizing: border-box;top: 0;bottom: 0;left: 50%;z-index: 0;}#sk-container-id-6 div.sk-serial {display: flex;flex-direction: column;align-items: center;background-color: white;padding-right: 0.2em;padding-left: 0.2em;position: relative;}#sk-container-id-6 div.sk-item {position: relative;z-index: 1;}#sk-container-id-6 div.sk-parallel {display: flex;align-items: stretch;justify-content: center;background-color: white;position: relative;}#sk-container-id-6 div.sk-item::before, #sk-container-id-6 div.sk-parallel-item::before {content: \"\";position: absolute;border-left: 1px solid gray;box-sizing: border-box;top: 0;bottom: 0;left: 50%;z-index: -1;}#sk-container-id-6 div.sk-parallel-item {display: flex;flex-direction: column;z-index: 1;position: relative;background-color: white;}#sk-container-id-6 div.sk-parallel-item:first-child::after {align-self: flex-end;width: 50%;}#sk-container-id-6 div.sk-parallel-item:last-child::after {align-self: flex-start;width: 50%;}#sk-container-id-6 div.sk-parallel-item:only-child::after {width: 0;}#sk-container-id-6 div.sk-dashed-wrapped {border: 1px dashed gray;margin: 0 0.4em 0.5em 0.4em;box-sizing: border-box;padding-bottom: 0.4em;background-color: white;}#sk-container-id-6 div.sk-label label {font-family: monospace;font-weight: bold;display: inline-block;line-height: 1.2em;}#sk-container-id-6 div.sk-label-container {text-align: center;}#sk-container-id-6 div.sk-container {/* jupyter's `normalize.less` sets `[hidden] { display: none; }` but bootstrap.min.css set `[hidden] { display: none !important; }` so we also need the `!important` here to be able to override the default hidden behavior on the sphinx rendered scikit-learn.org. See: https://github.com/scikit-learn/scikit-learn/issues/21755 */display: inline-block !important;position: relative;}#sk-container-id-6 div.sk-text-repr-fallback {display: none;}</style><div id=\"sk-container-id-6\" class=\"sk-top-container\"><div class=\"sk-text-repr-fallback\"><pre>LogisticRegression(C=0.1, solver=&#x27;newton-cg&#x27;)</pre><b>In a Jupyter environment, please rerun this cell to show the HTML representation or trust the notebook. <br />On GitHub, the HTML representation is unable to render, please try loading this page with nbviewer.org.</b></div><div class=\"sk-container\" hidden><div class=\"sk-item\"><div class=\"sk-estimator sk-toggleable\"><input class=\"sk-toggleable__control sk-hidden--visually\" id=\"sk-estimator-id-6\" type=\"checkbox\" checked><label for=\"sk-estimator-id-6\" class=\"sk-toggleable__label sk-toggleable__label-arrow\">LogisticRegression</label><div class=\"sk-toggleable__content\"><pre>LogisticRegression(C=0.1, solver=&#x27;newton-cg&#x27;)</pre></div></div></div></div></div>"
            ],
            "text/plain": [
              "LogisticRegression(C=0.1, solver='newton-cg')"
            ]
          },
          "execution_count": 89,
          "metadata": {},
          "output_type": "execute_result"
        }
      ],
      "source": [
        "# Fit the data\n",
        "\n",
        "optimized_model.fit(X_train, y_train)"
      ]
    },
    {
      "cell_type": "code",
      "execution_count": 90,
      "id": "4e95e0c7",
      "metadata": {
        "id": "4e95e0c7",
        "outputId": "40cf36ae-b628-4105-bbb4-4243523a3bff"
      },
      "outputs": [
        {
          "data": {
            "text/plain": [
              "array([0., 1., 1., 0., 1., 0., 0., 0., 1., 1., 1., 1., 0., 0., 0., 0., 0.,\n",
              "       0., 0., 0., 0., 0., 0., 1., 0., 1., 0., 1., 0., 0., 0., 1., 0., 1.,\n",
              "       0., 1., 1., 0., 0., 0., 0., 1., 0., 1., 0., 1., 1., 1., 0., 1., 1.,\n",
              "       1., 0., 1., 1., 1., 1., 0., 0., 1., 0., 1., 1., 0., 0., 0., 0., 0.,\n",
              "       0., 1., 0., 1., 1., 1., 1., 0., 1., 0., 0., 0., 1., 0., 1., 1., 0.,\n",
              "       0., 0., 0., 0., 0., 0., 1., 1., 1., 0., 0., 0., 0., 0., 0., 1., 0.,\n",
              "       0., 0., 0., 0., 1., 1., 0., 0., 0., 0., 0., 1., 0., 0., 0., 0., 0.,\n",
              "       0., 1., 1., 0., 0., 1., 0., 0., 1., 1., 0., 0., 1., 0., 0., 1., 0.,\n",
              "       1., 1., 1., 1., 1., 0., 1., 1., 1., 1., 0., 1., 0., 1., 0., 1., 1.,\n",
              "       0., 0., 1., 1., 1., 0., 1., 0., 1., 0., 0., 0., 0., 1., 0., 0., 1.,\n",
              "       1., 1., 1., 0., 1., 0., 1., 1.])"
            ]
          },
          "execution_count": 90,
          "metadata": {},
          "output_type": "execute_result"
        }
      ],
      "source": [
        "# Make predictions\n",
        "y_pred = optimized_model.predict(X_test)\n",
        "y_pred"
      ]
    },
    {
      "cell_type": "code",
      "execution_count": 91,
      "id": "99de24a3",
      "metadata": {
        "id": "99de24a3",
        "outputId": "bec5dc88-1fa9-4f59-e096-232cf295fcda"
      },
      "outputs": [
        {
          "data": {
            "text/plain": [
              "0.8089887640449438"
            ]
          },
          "execution_count": 91,
          "metadata": {},
          "output_type": "execute_result"
        }
      ],
      "source": [
        "# Check the accuracy score\n",
        "\n",
        "from sklearn.metrics import accuracy_score, confusion_matrix\n",
        "\n",
        "accuracy_score(y_pred, y_test)"
      ]
    },
    {
      "cell_type": "code",
      "execution_count": 92,
      "id": "9391d4f8",
      "metadata": {
        "id": "9391d4f8",
        "outputId": "4aee615a-e9fa-4331-b8e1-91c6474db455"
      },
      "outputs": [
        {
          "data": {
            "text/plain": [
              "array([[85, 15],\n",
              "       [19, 59]])"
            ]
          },
          "execution_count": 92,
          "metadata": {},
          "output_type": "execute_result"
        }
      ],
      "source": [
        "# Confusion Matrix\n",
        "\n",
        "confusion_matrix(y_pred, y_test)"
      ]
    },
    {
      "cell_type": "markdown",
      "id": "9d2ccf0d",
      "metadata": {
        "id": "9d2ccf0d"
      },
      "source": [
        "Observations: In effect, we now have 34 (15 + 19) wrong predictions. We had 33 with our first baseline model.\n",
        "\n",
        "In the last data preprocessing module we learned some techniques of feature selection if needed. However, the final clean dataset was saved before any feature selection implementation. So let's a feature selection technique here and see if it makes our model improve.\n",
        "\n",
        "**Recursive feature elimination**\n",
        "\n",
        "Given an external estimator that assigns weights to features, recursive feature elimination (RFE) is to select features by recursively considering smaller and smaller sets of features. First, the estimator is trained on the initial set of features and the importance of each feature is obtained either through a coef_ attribute or through a feature_importances_ attribute. Then, the least important features are pruned from current set of features.That procedure is recursively repeated on the pruned set until the desired number of features to select is eventually reached."
      ]
    },
    {
      "cell_type": "code",
      "execution_count": 93,
      "id": "a8297226",
      "metadata": {
        "id": "a8297226",
        "outputId": "65a58065-2bcb-4fc1-8b16-37b9afd926a7"
      },
      "outputs": [
        {
          "name": "stdout",
          "output_type": "stream",
          "text": [
            "Selected features: ['Embarked_C', 'Embarked_Q', 'Embarked_S', 'Female', 'Male', 'Pclass', 'Age', 'SibSp', 'fam_mbrs']\n"
          ]
        }
      ],
      "source": [
        "from sklearn.feature_selection import RFE\n",
        "\n",
        "# create the RFE model and select 9 attributes\n",
        "rfe = RFE(model, n_features_to_select=9)\n",
        "rfe = rfe.fit(X, y)\n",
        "\n",
        "# summarize the selection of the attributes\n",
        "print('Selected features: %s' % list(X.columns[rfe.support_]))"
      ]
    },
    {
      "cell_type": "markdown",
      "id": "fc4ca008",
      "metadata": {
        "id": "fc4ca008"
      },
      "source": [
        "These are the 9 attributes suggested. But is 9 the optimal number of Titanic features to enter my model?"
      ]
    },
    {
      "cell_type": "markdown",
      "id": "80b3b955",
      "metadata": {
        "id": "80b3b955"
      },
      "source": [
        "**Feature ranking with recursive feature elimination and cross-validation**\n",
        "\n",
        "RFECV performs RFE in a cross-validation loop to find the optimal number or the best number of features. Hereafter a recursive feature elimination applied on logistic regression with automatic tuning of the number of features selected with cross-validation."
      ]
    },
    {
      "cell_type": "code",
      "execution_count": 94,
      "id": "275b28de",
      "metadata": {
        "id": "275b28de",
        "outputId": "4dd568d7-6929-49f3-8c2b-0b6a6e66b975"
      },
      "outputs": [
        {
          "name": "stdout",
          "output_type": "stream",
          "text": [
            "Optimal number of features: 8\n",
            "Selected features: ['Embarked_C', 'Embarked_Q', 'Embarked_S', 'Female', 'Male', 'Pclass', 'Age', 'SibSp']\n"
          ]
        },
        {
          "name": "stderr",
          "output_type": "stream",
          "text": [
            "/home/gitpod/.pyenv/versions/3.8.13/lib/python3.8/site-packages/sklearn/utils/deprecation.py:103: FutureWarning: The `grid_scores_` attribute is deprecated in version 1.0 in favor of `cv_results_` and will be removed in version 1.2.\n",
            "  warnings.warn(msg, category=FutureWarning)\n"
          ]
        },
        {
          "data": {
            "image/png": "[encoded data removed]",
            "text/plain": [
              "<Figure size 720x432 with 1 Axes>"
            ]
          },
          "metadata": {
            "needs_background": "light"
          },
          "output_type": "display_data"
        }
      ],
      "source": [
        "from sklearn.feature_selection import RFECV\n",
        "\n",
        "# Create the RFE object and compute a cross-validated score.\n",
        "# The \"accuracy\" scoring is proportional to the number of correct classifications\n",
        "\n",
        "rfecv = RFECV(estimator=LogisticRegression(), step=1, cv=10, scoring='accuracy')\n",
        "rfecv.fit(X, y)\n",
        "\n",
        "print(\"Optimal number of features: %d\" % rfecv.n_features_)\n",
        "print('Selected features: %s' % list(X.columns[rfecv.support_]))\n",
        "\n",
        "# Plot number of features VS. cross-validation scores\n",
        "\n",
        "plt.figure(figsize=(10,6))\n",
        "plt.xlabel(\"Number of features selected\")\n",
        "plt.ylabel(\"Cross validation score (nb of correct classifications)\")\n",
        "plt.plot(range(1, len(rfecv.grid_scores_) + 1), rfecv.grid_scores_)\n",
        "plt.show()"
      ]
    },
    {
      "cell_type": "markdown",
      "id": "23d14322",
      "metadata": {
        "id": "23d14322"
      },
      "source": [
        "Observations: We see that the optimal number of features suggested is actually 8. The total number of family members was not considered as important."
      ]
    },
    {
      "cell_type": "markdown",
      "id": "7057a053",
      "metadata": {
        "id": "7057a053"
      },
      "source": [
        "**Model evaluation based on K-fold cross-validation using cross_val_score() function**\n",
        "\n",
        "- This time we are going to use a new features dataframe (new_X) with only the selected features.\n",
        "\n",
        "- This time the split method will be K-fold cross-validation with 10 folds.\n",
        "\n",
        "- The model will still be Logistic regression but we will use the best hyperparameters we got in the gridsearch.\n",
        "\n",
        "- We know that accuracy is not always the best or always poor measure for assesing. There are many metrics like Recall, Precision, F1 Score and much more. We will propose 3 different evaluation metrics. The metrics proposed will be 'accuracy', 'neg_log_loss', and 'roc_auc'.\n",
        "\n",
        "- Finally, the cross_val_score() function will be used to perform the evaluation, taking the dataset and cross-validation configuration and returning a list of scores calculated for each fold.\n"
      ]
    },
    {
      "cell_type": "code",
      "execution_count": 95,
      "id": "0bf8b662",
      "metadata": {
        "id": "0bf8b662",
        "outputId": "cf3a54f2-667a-4145-d53b-1dbaa72a3ae5"
      },
      "outputs": [
        {
          "name": "stdout",
          "output_type": "stream",
          "text": [
            "K-fold cross-validation results:\n",
            "LogisticRegression average accuracy is 0.798\n",
            "LogisticRegression average log_loss is 0.459\n",
            "LogisticRegression average auc is 0.847\n"
          ]
        }
      ],
      "source": [
        "from sklearn.model_selection import train_test_split, cross_val_score\n",
        "from sklearn.metrics import accuracy_score, classification_report, precision_score, recall_score \n",
        "from sklearn.metrics import confusion_matrix, precision_recall_curve, roc_curve, auc, log_loss\n",
        "\n",
        "Selected_features = ['Embarked_C', 'Embarked_Q', 'Embarked_S', 'Female', 'Male', 'Pclass', 'Age', 'SibSp']\n",
        "\n",
        "# create new X (selected features) \n",
        "new_X = final_df[Selected_features]\n",
        "\n",
        "# 10-fold cross-validation logistic regression, using the best hyperparameters gridsearch got for us.\n",
        "\n",
        "logreg = LogisticRegression(C= 0.1, penalty='l2', solver= 'newton-cg')\n",
        "\n",
        "# Use cross_val_score function\n",
        "# We are passing the entirety of X and y, not X_train or y_train anymore.\n",
        "# cv=10 for 10 folds\n",
        "# scoring = {'accuracy', 'neg_log_loss', 'roc_auc'} for evaluation metric\n",
        "\n",
        "scores_accuracy = cross_val_score(logreg, new_X, y, cv=10, scoring='accuracy')\n",
        "scores_log_loss = cross_val_score(logreg, new_X, y, cv=10, scoring='neg_log_loss')\n",
        "scores_auc = cross_val_score(logreg, new_X, y, cv=10, scoring='roc_auc')\n",
        "\n",
        "print('K-fold cross-validation results:')\n",
        "print(logreg.__class__.__name__+\" average accuracy is %2.3f\" % scores_accuracy.mean())\n",
        "print(logreg.__class__.__name__+\" average log_loss is %2.3f\" % -scores_log_loss.mean())\n",
        "print(logreg.__class__.__name__+\" average auc is %2.3f\" % scores_auc.mean())"
      ]
    },
    {
      "cell_type": "markdown",
      "id": "537ce0df",
      "metadata": {
        "id": "537ce0df"
      },
      "source": [
        "Notice that by using the 'roc_auc' metric we would have got a better score than accuracy. If we would want to repeat our modeling process using this evaluation metric, consider using the predict_proba(X_test) to predict the probabilities also graph auc_roc curves, because if you use model.predict(X_test), the method won’t have all the necessary information to build all the points in the curve.\n",
        "\n",
        "Let's finish our class predictions!\n",
        "\n",
        "We need to fit the whole training data to the estimator once we are satisfied with the results of cross_val_score, before we can use it to predict on Titanic test data."
      ]
    },
    {
      "cell_type": "code",
      "execution_count": 96,
      "id": "3a6a6180",
      "metadata": {
        "id": "3a6a6180",
        "outputId": "baf2b6c2-147d-44e3-fc73-3e7d7342818e"
      },
      "outputs": [
        {
          "data": {
            "text/html": [
              "<style>#sk-container-id-7 {color: black;background-color: white;}#sk-container-id-7 pre{padding: 0;}#sk-container-id-7 div.sk-toggleable {background-color: white;}#sk-container-id-7 label.sk-toggleable__label {cursor: pointer;display: block;width: 100%;margin-bottom: 0;padding: 0.3em;box-sizing: border-box;text-align: center;}#sk-container-id-7 label.sk-toggleable__label-arrow:before {content: \"▸\";float: left;margin-right: 0.25em;color: #696969;}#sk-container-id-7 label.sk-toggleable__label-arrow:hover:before {color: black;}#sk-container-id-7 div.sk-estimator:hover label.sk-toggleable__label-arrow:before {color: black;}#sk-container-id-7 div.sk-toggleable__content {max-height: 0;max-width: 0;overflow: hidden;text-align: left;background-color: #f0f8ff;}#sk-container-id-7 div.sk-toggleable__content pre {margin: 0.2em;color: black;border-radius: 0.25em;background-color: #f0f8ff;}#sk-container-id-7 input.sk-toggleable__control:checked~div.sk-toggleable__content {max-height: 200px;max-width: 100%;overflow: auto;}#sk-container-id-7 input.sk-toggleable__control:checked~label.sk-toggleable__label-arrow:before {content: \"▾\";}#sk-container-id-7 div.sk-estimator input.sk-toggleable__control:checked~label.sk-toggleable__label {background-color: #d4ebff;}#sk-container-id-7 div.sk-label input.sk-toggleable__control:checked~label.sk-toggleable__label {background-color: #d4ebff;}#sk-container-id-7 input.sk-hidden--visually {border: 0;clip: rect(1px 1px 1px 1px);clip: rect(1px, 1px, 1px, 1px);height: 1px;margin: -1px;overflow: hidden;padding: 0;position: absolute;width: 1px;}#sk-container-id-7 div.sk-estimator {font-family: monospace;background-color: #f0f8ff;border: 1px dotted black;border-radius: 0.25em;box-sizing: border-box;margin-bottom: 0.5em;}#sk-container-id-7 div.sk-estimator:hover {background-color: #d4ebff;}#sk-container-id-7 div.sk-parallel-item::after {content: \"\";width: 100%;border-bottom: 1px solid gray;flex-grow: 1;}#sk-container-id-7 div.sk-label:hover label.sk-toggleable__label {background-color: #d4ebff;}#sk-container-id-7 div.sk-serial::before {content: \"\";position: absolute;border-left: 1px solid gray;box-sizing: border-box;top: 0;bottom: 0;left: 50%;z-index: 0;}#sk-container-id-7 div.sk-serial {display: flex;flex-direction: column;align-items: center;background-color: white;padding-right: 0.2em;padding-left: 0.2em;position: relative;}#sk-container-id-7 div.sk-item {position: relative;z-index: 1;}#sk-container-id-7 div.sk-parallel {display: flex;align-items: stretch;justify-content: center;background-color: white;position: relative;}#sk-container-id-7 div.sk-item::before, #sk-container-id-7 div.sk-parallel-item::before {content: \"\";position: absolute;border-left: 1px solid gray;box-sizing: border-box;top: 0;bottom: 0;left: 50%;z-index: -1;}#sk-container-id-7 div.sk-parallel-item {display: flex;flex-direction: column;z-index: 1;position: relative;background-color: white;}#sk-container-id-7 div.sk-parallel-item:first-child::after {align-self: flex-end;width: 50%;}#sk-container-id-7 div.sk-parallel-item:last-child::after {align-self: flex-start;width: 50%;}#sk-container-id-7 div.sk-parallel-item:only-child::after {width: 0;}#sk-container-id-7 div.sk-dashed-wrapped {border: 1px dashed gray;margin: 0 0.4em 0.5em 0.4em;box-sizing: border-box;padding-bottom: 0.4em;background-color: white;}#sk-container-id-7 div.sk-label label {font-family: monospace;font-weight: bold;display: inline-block;line-height: 1.2em;}#sk-container-id-7 div.sk-label-container {text-align: center;}#sk-container-id-7 div.sk-container {/* jupyter's `normalize.less` sets `[hidden] { display: none; }` but bootstrap.min.css set `[hidden] { display: none !important; }` so we also need the `!important` here to be able to override the default hidden behavior on the sphinx rendered scikit-learn.org. See: https://github.com/scikit-learn/scikit-learn/issues/21755 */display: inline-block !important;position: relative;}#sk-container-id-7 div.sk-text-repr-fallback {display: none;}</style><div id=\"sk-container-id-7\" class=\"sk-top-container\"><div class=\"sk-text-repr-fallback\"><pre>LogisticRegression(C=0.1, solver=&#x27;newton-cg&#x27;)</pre><b>In a Jupyter environment, please rerun this cell to show the HTML representation or trust the notebook. <br />On GitHub, the HTML representation is unable to render, please try loading this page with nbviewer.org.</b></div><div class=\"sk-container\" hidden><div class=\"sk-item\"><div class=\"sk-estimator sk-toggleable\"><input class=\"sk-toggleable__control sk-hidden--visually\" id=\"sk-estimator-id-7\" type=\"checkbox\" checked><label for=\"sk-estimator-id-7\" class=\"sk-toggleable__label sk-toggleable__label-arrow\">LogisticRegression</label><div class=\"sk-toggleable__content\"><pre>LogisticRegression(C=0.1, solver=&#x27;newton-cg&#x27;)</pre></div></div></div></div></div>"
            ],
            "text/plain": [
              "LogisticRegression(C=0.1, solver='newton-cg')"
            ]
          },
          "execution_count": 96,
          "metadata": {},
          "output_type": "execute_result"
        }
      ],
      "source": [
        "# Let's fit our entire titanic train data with this model\n",
        "\n",
        "logreg.fit(new_X,y)"
      ]
    },
    {
      "cell_type": "markdown",
      "id": "1b0e4976",
      "metadata": {
        "id": "1b0e4976"
      },
      "source": [
        "In the following code, let's see how to generate our predictions, and save them in a predictions file with the right Id."
      ]
    },
    {
      "cell_type": "code",
      "execution_count": 97,
      "id": "466442e7",
      "metadata": {
        "id": "466442e7"
      },
      "outputs": [],
      "source": [
        "#Load initial test set (the one that was not cleaned yet and where we need to make predictions)\n",
        "\n",
        "initial_test_df = pd.read_csv('https://raw.githubusercontent.com/4GeeksAcademy/machine-learning-content/master/assets/titanic_test.csv')\n",
        "\n",
        "#Load cleaned test set\n",
        "\n",
        "final_test = pd.read_csv('https://raw.githubusercontent.com/4GeeksAcademy/machine-learning-content/master/assets/clean_titanic_test.csv')\n",
        "\n",
        "#Adding the column survived to clean test set in order to make predictions\n",
        "\n",
        "final_test['Survived'] = logreg.predict(final_test[Selected_features])\n",
        "\n",
        "#Putting the 'PassengerId' column back to test set\n",
        "\n",
        "final_test['PassengerId'] = initial_test_df['PassengerId']\n",
        "\n",
        "#Creating a final predictions dataframe\n",
        "\n",
        "submission = final_test[['PassengerId','Survived']]\n",
        "\n",
        "# Convert final dataframe in a csv file\n",
        "# Normally this is the required csv file in Kaggle competitions\n",
        "\n",
        "submission.to_csv(\"submission.csv\", index=False)"
      ]
    },
    {
      "cell_type": "markdown",
      "id": "faba28d6",
      "metadata": {
        "id": "faba28d6"
      },
      "source": [
        "Take a look at our predictions in the last rows of the test set"
      ]
    },
    {
      "cell_type": "code",
      "execution_count": 98,
      "id": "5141790e",
      "metadata": {
        "id": "5141790e",
        "outputId": "a86dacc4-3b12-45a1-c943-9501dabbc547"
      },
      "outputs": [
        {
          "data": {
            "text/html": [
              "<div>\n",
              "<style scoped>\n",
              "    .dataframe tbody tr th:only-of-type {\n",
              "        vertical-align: middle;\n",
              "    }\n",
              "\n",
              "    .dataframe tbody tr th {\n",
              "        vertical-align: top;\n",
              "    }\n",
              "\n",
              "    .dataframe thead th {\n",
              "        text-align: right;\n",
              "    }\n",
              "</style>\n",
              "<table border=\"1\" class=\"dataframe\">\n",
              "  <thead>\n",
              "    <tr style=\"text-align: right;\">\n",
              "      <th></th>\n",
              "      <th>PassengerId</th>\n",
              "      <th>Survived</th>\n",
              "    </tr>\n",
              "  </thead>\n",
              "  <tbody>\n",
              "    <tr>\n",
              "      <th>413</th>\n",
              "      <td>1305</td>\n",
              "      <td>0.0</td>\n",
              "    </tr>\n",
              "    <tr>\n",
              "      <th>414</th>\n",
              "      <td>1306</td>\n",
              "      <td>1.0</td>\n",
              "    </tr>\n",
              "    <tr>\n",
              "      <th>415</th>\n",
              "      <td>1307</td>\n",
              "      <td>0.0</td>\n",
              "    </tr>\n",
              "    <tr>\n",
              "      <th>416</th>\n",
              "      <td>1308</td>\n",
              "      <td>0.0</td>\n",
              "    </tr>\n",
              "    <tr>\n",
              "      <th>417</th>\n",
              "      <td>1309</td>\n",
              "      <td>0.0</td>\n",
              "    </tr>\n",
              "  </tbody>\n",
              "</table>\n",
              "</div>"
            ],
            "text/plain": [
              "     PassengerId  Survived\n",
              "413         1305       0.0\n",
              "414         1306       1.0\n",
              "415         1307       0.0\n",
              "416         1308       0.0\n",
              "417         1309       0.0"
            ]
          },
          "execution_count": 98,
          "metadata": {},
          "output_type": "execute_result"
        }
      ],
      "source": [
        "submission.tail()"
      ]
    },
    {
      "cell_type": "markdown",
      "id": "e41526e1",
      "metadata": {
        "id": "e41526e1"
      },
      "source": [
        "## Import considerations before modeling with Logistic Regression \n",
        "\n",
        "Ultimately in predictive modeling machine learning projects we are focused on making accurate predictions rather than interpreting the results. As such, we can break some assumptions as long as the model is robust and performs well.\n",
        "\n",
        "- Binary Output Variable: This might be obvious as we have already mentioned it, but logistic regression is intended for binary (two-class) classification problems. It will predict the probability of an instance belonging to the default class, which can be snapped into a 0 or 1 classification.\n",
        "\n",
        "- Remove Noise: Logistic regression assumes no error in the output variable (y), consider removing outliers and possibly misclassified instances from your training data.\n",
        "\n",
        "- Gaussian Distribution: Logistic regression is a linear algorithm (with a non-linear transform on output). It does assume a linear relationship between the input variables with the output. Data transforms of your input variables that better expose this linear relationship can result in a more accurate model. For example, you can use log, root, Box-Cox and other univariate transforms to better expose this relationship.\n",
        "\n",
        "- Remove Correlated Inputs: Like linear regression, the model can overfit if you have multiple highly-correlated inputs. Consider calculating the pairwise correlations between all inputs and removing highly correlated inputs.\n",
        "\n",
        "- Fail to Converge: It is possible for the expected likelihood estimation process that learns the coefficients to fail to converge. This can happen if there are many highly correlated inputs in your data or the data is very sparse (e.g. lots of zeros in your input data)."
      ]
    },
    {
      "cell_type": "markdown",
      "id": "9de9a255",
      "metadata": {
        "id": "9de9a255"
      },
      "source": [
        "Considering this, are there any changes you would do in your data preprocessing phase?"
      ]
    },
    {
      "cell_type": "markdown",
      "id": "1e5e27c6",
      "metadata": {
        "id": "1e5e27c6"
      },
      "source": [
        "Source: \n",
        "\n",
        "https://towardsdatascience.com/a-handbook-for-logistic-regression-bb2d0dc6d8a8\n",
        "\n",
        "https://www.displayr.com/how-to-interpret-logistic-regression-coefficients/\n",
        "\n",
        "https://towardsdatascience.com/a-handbook-for-logistic-regression-bb2d0dc6d8a8\n",
        "\n",
        "https://machinelearningmastery.com/hyperparameters-for-classification-machine-learning-algorithms/#:~:text=Logistic%20regression%20does%20not%20really,with%20different%20solvers%20(solver).&text=Regularization%20(penalty)%20can%20sometimes%20be%20helpful.\n",
        "\n",
        "https://machinelearningmastery.com/logistic-regression-for-machine-learning/\n",
        "\n",
        "https://www.kaggle.com/code/mnassrib/titanic-logistic-regression-with-python/notebook\n",
        "\n",
        "https://www.kaggle.com/code/rmiperrier/tps-mar-lgbm-predict-proba-vs-predict?scriptVersionId=55643096\n",
        "\n",
        "https://medium.com/codex/do-i-need-to-tune-logistic-regression-hyperparameters-1cb2b81fca69\n"
      ]
    }
  ],
  "metadata": {
    "colab": {
      "include_colab_link": true,
      "name": "logistic-regression.ipynb",
      "provenance": []
    },
    "kernelspec": {
      "display_name": "Python 3.8.13 64-bit ('3.8.13')",
      "language": "python",
      "name": "python3"
    },
    "language_info": {
      "codemirror_mode": {
        "name": "ipython",
        "version": 3
      },
      "file_extension": ".py",
      "mimetype": "text/x-python",
      "name": "python",
      "nbconvert_exporter": "python",
      "pygments_lexer": "ipython3",
      "version": "3.8.13"
    },
    "vscode": {
      "interpreter": {
        "hash": "110cc1dee26208153f2972f08a2ad52b6a56238dc66d48e87fb757ef2996db56"
      }
    }
  },
  "nbformat": 4,
  "nbformat_minor": 5
}
